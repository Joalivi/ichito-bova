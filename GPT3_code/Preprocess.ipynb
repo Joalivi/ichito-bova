{
 "cells": [
  {
   "cell_type": "code",
   "execution_count": null,
   "id": "ee86b202-9b82-4912-ba56-46b4f7514c5e",
   "metadata": {},
   "outputs": [],
   "source": [
    "import pandas as pd\n",
    "import numpy as np\n",
    "from sklearn.preprocessing import StandardScaler, MinMaxScaler, LabelEncoder\n",
    "from sklearn.impute import SimpleImputer\n",
    "from sklearn.pipeline import Pipeline\n",
    "from sklearn.model_selection import train_test_split\n",
    "\n",
    "# Load data from CSV\n",
    "df = pd.read_csv(\"stock_data.csv\")\n",
    "\n",
    "# Create a pipeline for preprocessing the data\n",
    "preprocessing_pipeline = Pipeline([\n",
    "    # Handle missing values\n",
    "    ('imputer', SimpleImputer(strategy='mean')),\n",
    "    \n",
    "    # Normalize the data using Standard Scaler or MinMaxScaler\n",
    "    ('scaler', StandardScaler()),\n",
    "    \n",
    "    # Encode categorical variables as integers\n",
    "    ('encoder', LabelEncoder()),\n",
    "])\n",
    "\n",
    "# Split the data into training and testing sets\n",
    "df_train, df_test = train_test_split(df, test_size=0.2, random_state=42)\n",
    "\n",
    "# Fit the pipeline to the training data\n",
    "df_train_preprocessed = preprocessing_pipeline.fit_transform(df_train)\n",
    "\n",
    "# Transform the test data using the fitted pipeline\n",
    "df_test_preprocessed = preprocessing_pipeline.transform(df_test)\n",
    "\n",
    "# Check the preprocessed data\n",
    "print(df_train_preprocessed)\n",
    "print(df_test_preprocessed)"
   ]
  }
 ],
 "metadata": {
  "kernelspec": {
   "display_name": "Python 3 (ipykernel)",
   "language": "python",
   "name": "python3"
  },
  "language_info": {
   "codemirror_mode": {
    "name": "ipython",
    "version": 3
   },
   "file_extension": ".py",
   "mimetype": "text/x-python",
   "name": "python",
   "nbconvert_exporter": "python",
   "pygments_lexer": "ipython3",
   "version": "3.7.15"
  }
 },
 "nbformat": 4,
 "nbformat_minor": 5
}
