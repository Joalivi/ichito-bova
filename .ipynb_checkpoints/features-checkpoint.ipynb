{
 "cells": [
  {
   "cell_type": "code",
   "execution_count": 1,
   "id": "b7f816c2-4540-4f5b-acb1-2809033d5707",
   "metadata": {},
   "outputs": [],
   "source": [
    "import pandas as pd\n",
    "import numpy as np\n",
    "import matplotlib"
   ]
  },
  {
   "cell_type": "code",
   "execution_count": 2,
   "id": "ed2c8955-a67c-4fc7-8412-ad7d400ea101",
   "metadata": {},
   "outputs": [],
   "source": [
    "vale = pd.read_csv('./databases/VALE3 Historical Data.csv')"
   ]
  },
  {
   "cell_type": "code",
   "execution_count": 3,
   "id": "17d4d99b-52b6-4c59-8063-f04d052efb82",
   "metadata": {},
   "outputs": [
    {
     "data": {
      "text/html": [
       "<div>\n",
       "<style scoped>\n",
       "    .dataframe tbody tr th:only-of-type {\n",
       "        vertical-align: middle;\n",
       "    }\n",
       "\n",
       "    .dataframe tbody tr th {\n",
       "        vertical-align: top;\n",
       "    }\n",
       "\n",
       "    .dataframe thead th {\n",
       "        text-align: right;\n",
       "    }\n",
       "</style>\n",
       "<table border=\"1\" class=\"dataframe\">\n",
       "  <thead>\n",
       "    <tr style=\"text-align: right;\">\n",
       "      <th></th>\n",
       "      <th>Date</th>\n",
       "      <th>Price</th>\n",
       "      <th>Open</th>\n",
       "      <th>High</th>\n",
       "      <th>Low</th>\n",
       "      <th>Vol.</th>\n",
       "      <th>Change %</th>\n",
       "    </tr>\n",
       "  </thead>\n",
       "  <tbody>\n",
       "    <tr>\n",
       "      <th>0</th>\n",
       "      <td>03/26/2020</td>\n",
       "      <td>31.37</td>\n",
       "      <td>30.64</td>\n",
       "      <td>31.68</td>\n",
       "      <td>29.87</td>\n",
       "      <td>35.39M</td>\n",
       "      <td>2.79%</td>\n",
       "    </tr>\n",
       "    <tr>\n",
       "      <th>1</th>\n",
       "      <td>03/25/2020</td>\n",
       "      <td>30.52</td>\n",
       "      <td>28.53</td>\n",
       "      <td>30.89</td>\n",
       "      <td>28.45</td>\n",
       "      <td>37.93M</td>\n",
       "      <td>8.53%</td>\n",
       "    </tr>\n",
       "    <tr>\n",
       "      <th>2</th>\n",
       "      <td>03/24/2020</td>\n",
       "      <td>28.12</td>\n",
       "      <td>27.54</td>\n",
       "      <td>28.87</td>\n",
       "      <td>27.54</td>\n",
       "      <td>36.95M</td>\n",
       "      <td>10.40%</td>\n",
       "    </tr>\n",
       "    <tr>\n",
       "      <th>3</th>\n",
       "      <td>03/23/2020</td>\n",
       "      <td>25.47</td>\n",
       "      <td>26.56</td>\n",
       "      <td>26.79</td>\n",
       "      <td>24.93</td>\n",
       "      <td>41.74M</td>\n",
       "      <td>-3.12%</td>\n",
       "    </tr>\n",
       "    <tr>\n",
       "      <th>4</th>\n",
       "      <td>03/20/2020</td>\n",
       "      <td>26.29</td>\n",
       "      <td>28.31</td>\n",
       "      <td>29.44</td>\n",
       "      <td>25.93</td>\n",
       "      <td>50.20M</td>\n",
       "      <td>-3.31%</td>\n",
       "    </tr>\n",
       "  </tbody>\n",
       "</table>\n",
       "</div>"
      ],
      "text/plain": [
       "         Date  Price   Open   High    Low    Vol. Change %\n",
       "0  03/26/2020  31.37  30.64  31.68  29.87  35.39M    2.79%\n",
       "1  03/25/2020  30.52  28.53  30.89  28.45  37.93M    8.53%\n",
       "2  03/24/2020  28.12  27.54  28.87  27.54  36.95M   10.40%\n",
       "3  03/23/2020  25.47  26.56  26.79  24.93  41.74M   -3.12%\n",
       "4  03/20/2020  26.29  28.31  29.44  25.93  50.20M   -3.31%"
      ]
     },
     "execution_count": 3,
     "metadata": {},
     "output_type": "execute_result"
    }
   ],
   "source": [
    "vale.head()"
   ]
  },
  {
   "cell_type": "code",
   "execution_count": 4,
   "id": "7092571b-54c3-4d6a-b778-bc5d191ad3e1",
   "metadata": {},
   "outputs": [
    {
     "name": "stdout",
     "output_type": "stream",
     "text": [
      "<class 'pandas.core.frame.DataFrame'>\n",
      "RangeIndex: 5000 entries, 0 to 4999\n",
      "Data columns (total 7 columns):\n",
      " #   Column    Non-Null Count  Dtype  \n",
      "---  ------    --------------  -----  \n",
      " 0   Date      5000 non-null   object \n",
      " 1   Price     5000 non-null   float64\n",
      " 2   Open      5000 non-null   float64\n",
      " 3   High      5000 non-null   float64\n",
      " 4   Low       5000 non-null   float64\n",
      " 5   Vol.      4999 non-null   object \n",
      " 6   Change %  5000 non-null   object \n",
      "dtypes: float64(4), object(3)\n",
      "memory usage: 273.6+ KB\n"
     ]
    }
   ],
   "source": [
    "vale.info()"
   ]
  },
  {
   "cell_type": "code",
   "execution_count": 5,
   "id": "e4e1b7fc-710a-4a5b-bf15-e9379d04107e",
   "metadata": {},
   "outputs": [],
   "source": [
    "vale['Date'] = pd.to_datetime(vale['Date'])"
   ]
  },
  {
   "cell_type": "code",
   "execution_count": 6,
   "id": "b04cdfef-6fe5-444c-9a18-f9d0b73b8300",
   "metadata": {},
   "outputs": [
    {
     "data": {
      "text/html": [
       "<div>\n",
       "<style scoped>\n",
       "    .dataframe tbody tr th:only-of-type {\n",
       "        vertical-align: middle;\n",
       "    }\n",
       "\n",
       "    .dataframe tbody tr th {\n",
       "        vertical-align: top;\n",
       "    }\n",
       "\n",
       "    .dataframe thead th {\n",
       "        text-align: right;\n",
       "    }\n",
       "</style>\n",
       "<table border=\"1\" class=\"dataframe\">\n",
       "  <thead>\n",
       "    <tr style=\"text-align: right;\">\n",
       "      <th></th>\n",
       "      <th>Date</th>\n",
       "      <th>Price</th>\n",
       "      <th>Open</th>\n",
       "      <th>High</th>\n",
       "      <th>Low</th>\n",
       "      <th>Vol.</th>\n",
       "      <th>Change %</th>\n",
       "    </tr>\n",
       "  </thead>\n",
       "  <tbody>\n",
       "    <tr>\n",
       "      <th>0</th>\n",
       "      <td>2020-03-26</td>\n",
       "      <td>31.37</td>\n",
       "      <td>30.64</td>\n",
       "      <td>31.68</td>\n",
       "      <td>29.87</td>\n",
       "      <td>35.39M</td>\n",
       "      <td>2.79%</td>\n",
       "    </tr>\n",
       "    <tr>\n",
       "      <th>1</th>\n",
       "      <td>2020-03-25</td>\n",
       "      <td>30.52</td>\n",
       "      <td>28.53</td>\n",
       "      <td>30.89</td>\n",
       "      <td>28.45</td>\n",
       "      <td>37.93M</td>\n",
       "      <td>8.53%</td>\n",
       "    </tr>\n",
       "    <tr>\n",
       "      <th>2</th>\n",
       "      <td>2020-03-24</td>\n",
       "      <td>28.12</td>\n",
       "      <td>27.54</td>\n",
       "      <td>28.87</td>\n",
       "      <td>27.54</td>\n",
       "      <td>36.95M</td>\n",
       "      <td>10.40%</td>\n",
       "    </tr>\n",
       "    <tr>\n",
       "      <th>3</th>\n",
       "      <td>2020-03-23</td>\n",
       "      <td>25.47</td>\n",
       "      <td>26.56</td>\n",
       "      <td>26.79</td>\n",
       "      <td>24.93</td>\n",
       "      <td>41.74M</td>\n",
       "      <td>-3.12%</td>\n",
       "    </tr>\n",
       "    <tr>\n",
       "      <th>4</th>\n",
       "      <td>2020-03-20</td>\n",
       "      <td>26.29</td>\n",
       "      <td>28.31</td>\n",
       "      <td>29.44</td>\n",
       "      <td>25.93</td>\n",
       "      <td>50.20M</td>\n",
       "      <td>-3.31%</td>\n",
       "    </tr>\n",
       "  </tbody>\n",
       "</table>\n",
       "</div>"
      ],
      "text/plain": [
       "        Date  Price   Open   High    Low    Vol. Change %\n",
       "0 2020-03-26  31.37  30.64  31.68  29.87  35.39M    2.79%\n",
       "1 2020-03-25  30.52  28.53  30.89  28.45  37.93M    8.53%\n",
       "2 2020-03-24  28.12  27.54  28.87  27.54  36.95M   10.40%\n",
       "3 2020-03-23  25.47  26.56  26.79  24.93  41.74M   -3.12%\n",
       "4 2020-03-20  26.29  28.31  29.44  25.93  50.20M   -3.31%"
      ]
     },
     "execution_count": 6,
     "metadata": {},
     "output_type": "execute_result"
    }
   ],
   "source": [
    "vale.head()"
   ]
  },
  {
   "cell_type": "code",
   "execution_count": 27,
   "id": "8cba22c4-0352-4694-93d0-72b395fb091e",
   "metadata": {},
   "outputs": [
    {
     "data": {
      "text/plain": [
       "<bound method NDFrame.tail of            Date  Price   Open   High    Low     Vol. Change %  Day_Variation\n",
       "0    2020-03-26  31.37  30.64  31.68  29.87   35.39M    2.79%      -2.382507\n",
       "1    2020-03-25  30.52  28.53  30.89  28.45   37.93M    8.53%      -6.975114\n",
       "2    2020-03-24  28.12  27.54  28.87  27.54   36.95M   10.40%      -2.106028\n",
       "3    2020-03-23  25.47  26.56  26.79  24.93   41.74M   -3.12%       4.103916\n",
       "4    2020-03-20  26.29  28.31  29.44  25.93   50.20M   -3.31%       7.135288\n",
       "...         ...    ...    ...    ...    ...      ...      ...            ...\n",
       "4995 2000-01-07   1.66   1.62   1.67   1.62    4.02M    3.75%      -2.469136\n",
       "4996 2000-01-06   1.60   1.60   1.64   1.60  599.36K    0.00%       0.000000\n",
       "4997 2000-01-05   1.60   1.58   1.60   1.58    1.41M    0.00%      -1.265823\n",
       "4998 2000-01-04   1.60   1.62   1.63   1.60  586.80K   -2.44%       1.234568\n",
       "4999 2000-01-03   1.64   1.64   1.66   1.64  439.24K    0.00%       0.000000\n",
       "\n",
       "[5000 rows x 8 columns]>"
      ]
     },
     "execution_count": 27,
     "metadata": {},
     "output_type": "execute_result"
    }
   ],
   "source": [
    "vale.tail"
   ]
  },
  {
   "cell_type": "code",
   "execution_count": 24,
   "id": "f9e669d3-8624-4840-9f07-d3040a590793",
   "metadata": {},
   "outputs": [],
   "source": [
    "vale['Day_Variation'] = (vale['Open'] - vale['Price']) * 100 / vale['Open']"
   ]
  },
  {
   "cell_type": "code",
   "execution_count": 26,
   "id": "ee486208-3241-495b-bc73-df55d1db5806",
   "metadata": {},
   "outputs": [
    {
     "data": {
      "text/plain": [
       "count    5000.000000\n",
       "mean       -0.013526\n",
       "std         2.173720\n",
       "min       -12.740989\n",
       "25%        -1.227308\n",
       "50%         0.000000\n",
       "75%         1.193397\n",
       "max        11.538462\n",
       "Name: Day_Variation, dtype: float64"
      ]
     },
     "execution_count": 26,
     "metadata": {},
     "output_type": "execute_result"
    }
   ],
   "source": [
    "vale['Day_Variation'].describe()"
   ]
  },
  {
   "cell_type": "code",
   "execution_count": 20,
   "id": "6f6d5e6b-8602-4d6a-830f-b6e81bcf9fa6",
   "metadata": {},
   "outputs": [
    {
     "data": {
      "text/plain": [
       "0       2.79\n",
       "1       8.53\n",
       "2      10.40\n",
       "3      -3.12\n",
       "4      -3.31\n",
       "5      -5.82\n",
       "6      -6.90\n",
       "7       6.34\n",
       "8      -9.02\n",
       "9      21.36\n",
       "10    -13.21\n",
       "11     -9.08\n",
       "12     18.44\n",
       "13    -15.19\n",
       "14     -4.80\n",
       "15     -3.53\n",
       "16      4.79\n",
       "17     -0.03\n",
       "18      4.62\n",
       "19     -0.36\n",
       "20     -1.95\n",
       "21     -9.53\n",
       "22     -3.95\n",
       "23     -1.17\n",
       "24      0.03\n",
       "25     -1.15\n",
       "26      4.72\n",
       "27     -2.18\n",
       "28     -1.74\n",
       "29      1.95\n",
       "30      3.71\n",
       "31     -3.67\n",
       "32     -2.21\n",
       "33      0.56\n",
       "34      1.36\n",
       "35      2.68\n",
       "36      1.28\n",
       "37     -2.39\n",
       "38      1.48\n",
       "39     -0.89\n",
       "40      1.38\n",
       "41     -6.12\n",
       "42     -3.06\n",
       "43     -1.43\n",
       "44      0.48\n",
       "45     -2.31\n",
       "46      0.63\n",
       "47      3.32\n",
       "48     -0.53\n",
       "49     -0.31\n",
       "50      0.61\n",
       "51      3.64\n",
       "52      0.10\n",
       "53     -1.31\n",
       "54      0.02\n",
       "55      0.72\n",
       "56     -0.60\n",
       "57     -0.74\n",
       "58      1.93\n",
       "Name: Change %, dtype: object"
      ]
     },
     "execution_count": 20,
     "metadata": {},
     "output_type": "execute_result"
    }
   ],
   "source": [
    "vale.loc[vale['Date'].dt.year >= 2020]['Change %'].str.replace('%','')"
   ]
  },
  {
   "cell_type": "code",
   "execution_count": 13,
   "id": "75fa5cb9-ce1f-4116-b9f7-1a6dbc38ea15",
   "metadata": {},
   "outputs": [
    {
     "data": {
      "text/plain": [
       "0       2020\n",
       "1       2020\n",
       "2       2020\n",
       "3       2020\n",
       "4       2020\n",
       "        ... \n",
       "4995    2000\n",
       "4996    2000\n",
       "4997    2000\n",
       "4998    2000\n",
       "4999    2000\n",
       "Name: Date, Length: 5000, dtype: int64"
      ]
     },
     "execution_count": 13,
     "metadata": {},
     "output_type": "execute_result"
    }
   ],
   "source": [
    "vale['Date'].dt.year"
   ]
  }
 ],
 "metadata": {
  "kernelspec": {
   "display_name": "Python 3 (ipykernel)",
   "language": "python",
   "name": "python3"
  },
  "language_info": {
   "codemirror_mode": {
    "name": "ipython",
    "version": 3
   },
   "file_extension": ".py",
   "mimetype": "text/x-python",
   "name": "python",
   "nbconvert_exporter": "python",
   "pygments_lexer": "ipython3",
   "version": "3.10.8"
  }
 },
 "nbformat": 4,
 "nbformat_minor": 5
}
